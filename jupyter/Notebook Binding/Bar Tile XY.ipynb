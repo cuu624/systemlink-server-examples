{
 "cells": [
  {
   "cell_type": "markdown",
   "metadata": {},
   "source": [
    "<table>\n",
    "    <tr>\n",
    "        <td><img src='../SystemLink_icon.png' /></td>\n",
    "    </tr>\n",
    "</table>\n",
    "\n",
    "## Bar Tile Binding Example\n",
    "***\n",
    "This example illustrates how a notebook execution can be bound to bar chart tile in a dashboard builder.\n",
    "***\n",
    "# Prerequisites\n",
    "- None\n",
    "\n",
    "# Summary \n",
    "This example illustrates how a notebook execution can be bound to bar tile in a dashboard builder. The result is set into the result object and then recorded using papermill to be consumed by the Notbook service. This example shows how a bar chart data can be modelled in the 'XY' format. In Index format, data is described as [[x0, x1, x2, ...]  [y0, y1, y2, ...]] format, where x0, x1, x2 etc shows the x-axis markings, and y0, y1, y2, ... shows the corresponding y-values.\n",
    "***"
   ]
  },
  {
   "cell_type": "code",
   "execution_count": null,
   "metadata": {},
   "outputs": [],
   "source": []
  },
  {
   "cell_type": "code",
   "execution_count": null,
   "metadata": {},
   "outputs": [],
   "source": [
    "import datetime\n",
    "import papermill as pm\n",
    "\n",
    "result = [];\n",
    "result.append({\n",
    "    'plot_style': 'BAR',\n",
    "    'data_format': 'XY',\n",
    "    'data_frame': {\n",
    "        'data': [ [0, 1, 2], [datetime.datetime.now().second, datetime.datetime.now().minute, datetime.datetime.now().hour] ]\n",
    "    }\n",
    "})\n",
    "pm.record('axis_labels', ['Time units', 'Value'])\n",
    "pm.record('result_type', 'DEFAULT')\n",
    "pm.record('result', result)"
   ]
  }
 ],
 "metadata": {
  "kernelspec": {
   "display_name": "Python 3",
   "language": "python",
   "name": "python3"
  },
  "language_info": {
   "codemirror_mode": {
    "name": "ipython",
    "version": 3
   },
   "file_extension": ".py",
   "mimetype": "text/x-python",
   "name": "python",
   "nbconvert_exporter": "python",
   "pygments_lexer": "ipython3",
   "version": "3.7.2"
  }
 },
 "nbformat": 4,
 "nbformat_minor": 2
}
