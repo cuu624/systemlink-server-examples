{
 "cells": [
  {
   "cell_type": "markdown",
   "metadata": {},
   "source": [
    "<table>\n",
    "    <tr>\n",
    "        <td><img src='../SystemLink_icon.png' /></td>\n",
    "    </tr>\n",
    "</table>\n",
    "\n",
    "## Numeric Tile Binding Example\n",
    "***\n",
    "This example illustrates how a notebook execution can be bound to numeric tile in a dashboard builder.\n",
    "***\n",
    "# Prerequisites\n",
    "- None\n",
    "\n",
    "# Summary \n",
    "This example illustrates how a notebook execution can be bound to numeric tile in a dashboard builder.\n",
    "***"
   ]
  },
  {
   "cell_type": "code",
   "execution_count": null,
   "metadata": {},
   "outputs": [],
   "source": [
    "import datetime\n",
    "import papermill as pm\n",
    "\n",
    "result = [];\n",
    "result.append({\n",
    "    'data_frame': {\n",
    "        'data': datetime.datetime.now().hour\n",
    "    }\n",
    "});\n",
    "pm.record('result', result)\n",
    "pm.record('result_type', 'SCALAR')"
   ]
  }
 ],
 "metadata": {
  "kernelspec": {
   "display_name": "Python 3",
   "language": "python",
   "name": "python3"
  },
  "language_info": {
   "codemirror_mode": {
    "name": "ipython",
    "version": 3
   },
   "file_extension": ".py",
   "mimetype": "text/x-python",
   "name": "python",
   "nbconvert_exporter": "python",
   "pygments_lexer": "ipython3",
   "version": "3.7.2"
  }
 },
 "nbformat": 4,
 "nbformat_minor": 2
}
