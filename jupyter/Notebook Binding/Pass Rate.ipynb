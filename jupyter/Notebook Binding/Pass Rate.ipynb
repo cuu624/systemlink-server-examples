{
 "cells": [
  {
   "cell_type": "markdown",
   "metadata": {},
   "source": [
    "# Pass Rate\n",
    "This notebook creates a pass rate report for test results. It ties into the **Test Monitor Service** for retrieving filtered test results, the **Notebook Execution Service** for running outside of Jupyterhub, and the **Test Monitor Reports page** at #testmonitor/reports for displaying results.\n",
    "\n",
    "The parameters and output use a schema recognized by the Test Monitor Reports page, which can be implemented by various report types. The Pass Rate notebook produces data that is best shown in a bar graph."
   ]
  },
  {
   "cell_type": "markdown",
   "metadata": {},
   "source": [
    "### Imports\n",
    "Import Python modules for executing the notebook. Pandas is used for building and handling dataframes, and Papermill is used for running notebooks and recording data for the Notebook Execution Service. The SystemLink Test Monitor Client provides access to test result data for processing."
   ]
  },
  {
   "cell_type": "code",
   "execution_count": null,
   "metadata": {},
   "outputs": [],
   "source": [
    "import copy\n",
    "import datetime\n",
    "import dateutil.parser\n",
    "import pandas as pd\n",
    "import papermill as pm\n",
    "from dateutil import tz\n",
    "\n",
    "from systemlink.testmonclient import TestMonitorClient, testmon_messages"
   ]
  },
  {
   "cell_type": "markdown",
   "metadata": {},
   "source": [
    "### Parameters\n",
    "- `group_by`: The dimension along which to reduce; what each bar in the output graph represents  \n",
    "  Options: Day, System, Test Program, Operator, Product  \n",
    "  Default: Day\n",
    "- `query_by`: Filter for test results from the Test Monitor Service  \n",
    "  Options: Any valid Test Monitor filter  \n",
    "  Default: `{ 'startedWithin': { 'unit': 'DAYS', 'value': 30 } }`\n",
    "\n",
    "Parameters are also listed in the metadata for the parameters cell, along with their default values. The Notebook Execution services uses that metadata to pass parameters from the Test Monitor Reports page to this notebook. Available `group_by` and `query_by` options are listed in the metadata as well; the Test Monitor Reports page uses these to validate inputs sent to the notebook.\n",
    "\n",
    "To see the metadata, select the code cell and click the wrench icon in the far left panel."
   ]
  },
  {
   "cell_type": "code",
   "execution_count": null,
   "metadata": {
    "papermill": {
     "parameters": {
      "group_by": "Day",
      "query_by": {
       "startedWithin": {
        "unit": "DAYS",
        "value": 30
       }
      }
     }
    },
    "systemlink": {
     "available_group_by": [
      "Day",
      "System",
      "Test Program",
      "Operator",
      "Product"
     ],
     "available_query_by": [
      "nitmBatchSerialNumber",
      "keywords",
      "operators",
      "products",
      "properties",
      "serialNumbers",
      "startedAtQuery",
      "startedWithin",
      "statuses",
      "systemIds",
      "programNames",
      "updatedAtQuery",
      "updatedWithin"
     ],
     "namespaces": [
      "ni-testmanagement"
     ]
    },
    "tags": [
     "parameters"
    ]
   },
   "outputs": [],
   "source": [
    "group_by = 'Day'\n",
    "query_by = {\n",
    "    'startedWithin': {\n",
    "        'unit': 'DAYS',\n",
    "        'value': 30\n",
    "    }\n",
    "}"
   ]
  },
  {
   "cell_type": "markdown",
   "metadata": {},
   "source": [
    "### Mapping from grouping options to Test Monitor terminology\n",
    "Translate the grouping options shown in the Test Monitor Reports page to keywords recognized by the Test Monitor API."
   ]
  },
  {
   "cell_type": "code",
   "execution_count": null,
   "metadata": {},
   "outputs": [],
   "source": [
    "groups_map = {\n",
    "    'Day': 'startedAt',\n",
    "    'System': 'systemId',\n",
    "    'Test Program': 'programName',\n",
    "    'Operator': 'operator',\n",
    "    'Product': 'product'\n",
    "}\n",
    "grouping = groups_map[group_by]"
   ]
  },
  {
   "cell_type": "markdown",
   "metadata": {},
   "source": [
    "### Create Test Monitor client\n",
    "Establish a connection to SystemLink over AMQP."
   ]
  },
  {
   "cell_type": "code",
   "execution_count": null,
   "metadata": {},
   "outputs": [],
   "source": [
    "testmonclient = TestMonitorClient(service_name='TestMonitorClient')"
   ]
  },
  {
   "cell_type": "markdown",
   "metadata": {},
   "source": [
    "### Query for results\n",
    "Query the Test Monitor Service for results matching the `query_by` parameter."
   ]
  },
  {
   "cell_type": "code",
   "execution_count": null,
   "metadata": {},
   "outputs": [],
   "source": [
    "query_by.update({\n",
    "    'sortBy': [{\n",
    "        'field': 'STARTED_AT',\n",
    "        'orderByDescending': False\n",
    "    }]\n",
    "})\n",
    "query = testmon_messages.ResultQuery.from_dict(query_by)\n",
    "results, _ = testmonclient.query_results(query)\n",
    "\n",
    "results_list = []\n",
    "for result in results:\n",
    "    results_list.append(result.to_dict())"
   ]
  },
  {
   "cell_type": "markdown",
   "metadata": {},
   "source": [
    "### Get group names\n",
    "Collect the group name for each result based on the `group_by` parameter."
   ]
  },
  {
   "cell_type": "code",
   "execution_count": null,
   "metadata": {},
   "outputs": [],
   "source": [
    "group_names = []\n",
    "for result in results_list:\n",
    "    if grouping in result:\n",
    "        group_names.append(result[grouping])"
   ]
  },
  {
   "cell_type": "markdown",
   "metadata": {},
   "source": [
    "### Create pandas dataframe\n",
    "Put the data into a dataframe whose columns are test result id, status, and group name."
   ]
  },
  {
   "cell_type": "code",
   "execution_count": null,
   "metadata": {},
   "outputs": [],
   "source": [
    "formatted_results = {\n",
    "    'id': [result['id'] for result in results_list],\n",
    "    'status': [result['status']['statusType'] for result in results_list],\n",
    "    grouping: group_names\n",
    "}\n",
    "\n",
    "df_results = pd.DataFrame.from_dict(formatted_results)"
   ]
  },
  {
   "cell_type": "markdown",
   "metadata": {},
   "source": [
    "### Handle grouping by day\n",
    "If the grouping is by day, the group name is the date and time when the test started in UTC. To group all test results from a single day together, convert to server time and remove time information from the group name."
   ]
  },
  {
   "cell_type": "code",
   "execution_count": null,
   "metadata": {},
   "outputs": [],
   "source": [
    "df_results_copy = copy.copy(df_results)\n",
    "df_results_copy.fillna(value='', inplace=True)\n",
    "\n",
    "if grouping is 'startedAt':\n",
    "    truncated_times = []\n",
    "    for val in df_results_copy[grouping]:\n",
    "        utc = dateutil.parser.parse(val)\n",
    "        local_time = utc.astimezone(tz.tzlocal())\n",
    "        truncated_times.append(str(datetime.date(local_time.year, local_time.month, local_time.day)))\n",
    "    df_results_copy[grouping] = truncated_times"
   ]
  },
  {
   "cell_type": "markdown",
   "metadata": {},
   "source": [
    "### Aggregate results into groups\n",
    "Aggregate the data for each unique group and status.\n",
    "\n",
    "*See documentation for [size](https://pandas.pydata.org/pandas-docs/stable/generated/pandas.DataFrame.size.html) and [unstack](https://pandas.pydata.org/pandas-docs/stable/generated/pandas.DataFrame.unstack.html) here.*"
   ]
  },
  {
   "cell_type": "code",
   "execution_count": null,
   "metadata": {},
   "outputs": [],
   "source": [
    "df_grouped = df_results_copy.groupby([grouping, 'status']).size().unstack(fill_value=0)\n",
    "if 'PASSED' not in df_grouped:\n",
    "    df_grouped['PASSED'] = 0\n",
    "if 'FAILED' not in df_grouped:\n",
    "    df_grouped['FAILED'] = 0\n",
    "if 'ERRORED' not in df_grouped:\n",
    "    df_grouped['ERRORED'] = 0"
   ]
  },
  {
   "cell_type": "markdown",
   "metadata": {},
   "source": [
    "### Pass Rate calculation\n",
    "Divide the number of passed tests by the total number of tests."
   ]
  },
  {
   "cell_type": "code",
   "execution_count": null,
   "metadata": {},
   "outputs": [],
   "source": [
    "df_pass_rate = pd.DataFrame(100 * df_grouped['PASSED'] / (df_grouped['FAILED'] + df_grouped['ERRORED'] + df_grouped['PASSED']))"
   ]
  },
  {
   "cell_type": "markdown",
   "metadata": {},
   "source": [
    "### Convert the dataframe to the SystemLink reports output format\n",
    "For a pass rate bar graph grouped by day, the output is an array containing one dataframe. The dataframe contains ISO-8601 date strings as x values and the pass rate as y values. Because the data includes x values, the data format is XY.\n",
    "```\n",
    "[{'plot_style': 'BAR',\n",
    "  'data_format': 'XY',\n",
    "  'data_frame': {\n",
    "     'data': [\n",
    "         ['2018-11-17T00:00:00', '2018-11-18T00:00:00', ...],\n",
    "         [94.0, 89.9, ...]\n",
    "     ]\n",
    "  }\n",
    "}]\n",
    "```\n",
    "\n",
    "For a pass rate bar graph grouped by any other grouping option, the output is an array of _n_ dataframes, where *n* is the number of data points. Each dataframe contains a single x value and a single y value, representing one bar in the graph. Because the data includes x values, the data format is XY.\n",
    "```\n",
    "[{'plot_style': 'BAR',\n",
    "  'data_format': 'XY',\n",
    "  'data_frame': {'data': [[0], [95.3]]}},\n",
    "  ...\n",
    "]\n",
    "```"
   ]
  },
  {
   "cell_type": "code",
   "execution_count": null,
   "metadata": {},
   "outputs": [],
   "source": [
    "df_pass_rate = df_pass_rate.transpose()\n",
    "df_pass_rate_dict = df_pass_rate.to_dict('split')\n",
    "\n",
    "result = []\n",
    "if grouping is 'startedAt':\n",
    "    date_values = []\n",
    "    for date in df_pass_rate_dict['columns']:\n",
    "        converted = datetime.datetime.strptime(date, '%Y-%m-%d').isoformat()\n",
    "        date_values.append(converted)\n",
    "    result.append({\n",
    "        'plot_style': 'BAR',\n",
    "        'data_format': 'XY',\n",
    "        'data_frame': {'data': [date_values , df_pass_rate_dict['data'][0]]}\n",
    "    })\n",
    "else:\n",
    "    i = 0\n",
    "    for data_member in df_pass_rate_dict['data'][0]:\n",
    "        result.append({\n",
    "            'plot_style': 'BAR',\n",
    "            'data_format': 'XY',\n",
    "            'data_frame': {'data': [[i], [data_member]]}\n",
    "        })\n",
    "        i += 1"
   ]
  },
  {
   "cell_type": "markdown",
   "metadata": {},
   "source": [
    "### Get tick labels from dataframe column names\n",
    "Providing x-axis tick labels is optional. If none are provided, the Test Monitor Reports page will use the x values in the dataframe if they are provided, or an index starting at 0 if no x values are provided. If tick labels are provided, they must be formatted as `[{'x': 0, 'label': 'label_name'}, {'x': 1, 'label': 'label_name'}, ...]`, and there must be one tick for every x value.\n",
    "\n",
    "For the pass rate bar graph, tick labels are generated if the result is not grouped by day. Results grouped by day return time x values, which the Test Monitor Reports page translates into a time axis."
   ]
  },
  {
   "cell_type": "code",
   "execution_count": null,
   "metadata": {},
   "outputs": [],
   "source": [
    "ticks = []\n",
    "if grouping is not 'startedAt':\n",
    "    i = 0\n",
    "    for label in df_pass_rate_dict['columns']:\n",
    "        ticks.append({\n",
    "            'x': i,\n",
    "            'label': label or 'No ' + group_by\n",
    "        })\n",
    "        i += 1"
   ]
  },
  {
   "cell_type": "markdown",
   "metadata": {},
   "source": [
    "### Record results with Papermill\n",
    "For optimal parsing by the Test Monitor Reports page, results should include\n",
    "- `title`: The title of the result graph\n",
    "- `axis_labels`: The x-axis label and y-axis label\n",
    "- `tick_labels`: Labels for the ticks along the x-axis\n",
    "- `orientation`: 'HORIZONTAL' or 'VERTICAL'\n",
    "- `result_type`: The type of data returned by the notebook ('DEFAULT' is the only option supported by the Test Monitor Reports page; it represents graph data)\n",
    "- `result`: The calculated pass rate data"
   ]
  },
  {
   "cell_type": "code",
   "execution_count": null,
   "metadata": {},
   "outputs": [],
   "source": [
    "pm.record('title', 'Pass Rate by {}'.format(group_by))\n",
    "pm.record('axis_labels', [group_by, 'Pass Rate'])\n",
    "pm.record('tick_labels', ticks)\n",
    "pm.record('orientation', 'VERTICAL')\n",
    "pm.record('result_type', 'DEFAULT')\n",
    "pm.record('result', result)"
   ]
  }
 ],
 "metadata": {
  "kernelspec": {
   "display_name": "Python 3",
   "language": "python",
   "name": "python3"
  },
  "language_info": {
   "codemirror_mode": {
    "name": "ipython",
    "version": 3
   },
   "file_extension": ".py",
   "mimetype": "text/x-python",
   "name": "python",
   "nbconvert_exporter": "python",
   "pygments_lexer": "ipython3",
   "version": "3.7.2"
  }
 },
 "nbformat": 4,
 "nbformat_minor": 2
}
