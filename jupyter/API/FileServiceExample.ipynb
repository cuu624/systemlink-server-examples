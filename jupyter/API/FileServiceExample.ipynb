{
 "cells": [
  {
   "cell_type": "markdown",
   "metadata": {},
   "source": [
    "<table>\n",
    "    <tr>\n",
    "        <td><img src='../SystemLink_icon.png' /></td>\n",
    "        <td ><h1><strong>NI SystemLink Python API</strong></h1></td>\n",
    "    </tr>\n",
    "</table>\n",
    "\n",
    "## File Service Example\n",
    "***\n",
    "The File Service API provides functions to upload, delete, download, update or query files hosted by the File Service.\n",
    "***\n",
    "# Prerequisites\n",
    "- None\n",
    "\n",
    "# Summary \n",
    "This example uses the nptdms package to create a TDMS file with 10 sine waves, with noise. Each waveform contains 1000 points and has a frequency of 20 hertz. The File Service API is used to upload the resulting TDMS file, if the file is not present. The uploaded file is used by the TDMSReader example notebook.\n",
    "\n",
    "- Use **numpy** to create 10 noisy sine waves.\n",
    "- Use **nptdms** to create a TDMS file with 1 group (signals) and 10 channels (noisy sine waves)\n",
    "- Use the File Service API **upload_file** to upload the example file to the File Service.\n",
    "***"
   ]
  },
  {
   "cell_type": "code",
   "execution_count": null,
   "metadata": {},
   "outputs": [],
   "source": [
    "import os\n",
    "import numpy as np\n",
    "\n",
    "from nptdms import TdmsWriter, RootObject, GroupObject, ChannelObject\n",
    "from systemlink.fileingestionclient import FileIngestionClient, fileingestion_messages\n",
    "\n",
    "fileingestionclient = FileIngestionClient(service_name='FileIngestionClient')\n",
    "\n",
    "root = RootObject(properties={\n",
    "    'name' : 'sine_wave.tdms',\n",
    "    'description': 'Test file',\n",
    "})\n",
    "group = GroupObject('signals', properties={\n",
    "    'description': 'Group that holds signals'\n",
    "})\n",
    "\n",
    "frequency = 20\n",
    "sample_rate = 1000\n",
    "\n",
    "file_name = 'sine_wave_sdk_example.tdms'\n",
    "\n",
    "if not os.path.exists(file_name):\n",
    "    equal_op = fileingestion_messages.QueryOperator(fileingestion_messages.QueryOperator.EQUAL)\n",
    "    query = fileingestion_messages.StringQueryEntry('Name', file_name, equal_op)\n",
    "    res = fileingestionclient.query_files(properties_query=[query])\n",
    "\n",
    "    if not res.available_files:\n",
    "        channels = []\n",
    "        time = np.arange(sample_rate)\n",
    "\n",
    "        # Create 10 channels, with sine waves + noise (from the standard normal distribution)\n",
    "        for idx in range(10):\n",
    "            data = np.sin(2 * np.pi * frequency * time / sample_rate)*5 + np.random.randn(1000)\n",
    "            channels.append(ChannelObject('signals', 'sine_wave{}'.format(idx), data))\n",
    "\n",
    "        with TdmsWriter(file_name) as tdms_writer:\n",
    "            for channel in channels:\n",
    "                tdms_writer.write_segment([root, group, channel])\n",
    "        file_id = fileingestionclient.upload_file(file_name)\n",
    "        print('Uploaded file {} to SystemLink'.format(file_name))\n",
    "        os.remove(file_name)\n",
    "    else:\n",
    "        print('File {} is already present in SystemLink. You need to delete the file manually before you can run this example.'.format(file_name))\n",
    "else:\n",
    "    print('File {} already exists. You need to delete it manually before this notebook can run.'.format(file_name))"
   ]
  }
 ],
 "metadata": {
  "kernelspec": {
   "display_name": "Python 3",
   "language": "python",
   "name": "python3"
  },
  "language_info": {
   "codemirror_mode": {
    "name": "ipython",
    "version": 3
   },
   "file_extension": ".py",
   "mimetype": "text/x-python",
   "name": "python",
   "nbconvert_exporter": "python",
   "pygments_lexer": "ipython3",
   "version": "3.7.2"
  }
 },
 "nbformat": 4,
 "nbformat_minor": 2
}
